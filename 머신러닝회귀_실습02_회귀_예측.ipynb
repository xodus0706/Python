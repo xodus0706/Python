{
 "cells": [
  {
   "cell_type": "code",
   "execution_count": 9,
   "id": "aafb1138",
   "metadata": {},
   "outputs": [],
   "source": [
    "import pandas as pd\n",
    "from sklearn.model_selection import train_test_split\n",
    "from sklearn.linear_model import LinearRegression\n",
    "from sklearn import svm, metrics"
   ]
  },
  {
   "cell_type": "code",
   "execution_count": 29,
   "id": "f54ece32",
   "metadata": {},
   "outputs": [],
   "source": [
    "#엑셀파일 읽기\n",
    "tmp = pd.read_excel(\"data/지역_위치별(주유소).xls\")\n",
    "data = tmp.dropna(how=\"any\") #결측치가 있는 행 모두 삭제"
   ]
  },
  {
   "cell_type": "code",
   "execution_count": 30,
   "id": "a3236d2c",
   "metadata": {},
   "outputs": [
    {
     "name": "stdout",
     "output_type": "stream",
     "text": [
      "0.926878130258197\n"
     ]
    }
   ],
   "source": [
    "price_data = data[[\"휘발유\", \"경유\"]]\n",
    "price_label = data[[\"고급휘발유\"]]\n",
    "\n",
    "train_data, test_data, train_label, test_label = \\\n",
    "train_test_split(price_data, price_label)\n",
    "\n",
    "model = LinearRegression()\n",
    "\n",
    "model.fit(train_data, train_label)  #학습\n",
    "\n",
    "pre = model.predict(test_data)  #예측\n",
    "\n",
    "#ac_score = metrics.accuracy_score(test_label, pre) \n",
    "# 진짜답, 예측값\n",
    "#분류성능평가 --> 회귀에는 사용X\n",
    "print(model.score(test_data, test_label))  #회귀성능평가/ 모두 예측답/결정계수"
   ]
  },
  {
   "cell_type": "code",
   "execution_count": 37,
   "id": "6f7c89dc",
   "metadata": {},
   "outputs": [
    {
     "name": "stdout",
     "output_type": "stream",
     "text": [
      "    고급휘발유   휘발유    경유\n",
      "0     NaN  1548  1345\n",
      "3     NaN  1568  1365\n",
      "5     NaN  1590  1390\n",
      "6     NaN  1595  1380\n",
      "12    NaN  1608  1397\n"
     ]
    }
   ],
   "source": [
    "#\"고급휘발유\"열에 결측치가 존재하는 행만 꺼내기\n",
    "#data = tmp[tmp[\"고급휘발유\"].isnull()] \n",
    "#data = tmp.loc[tmp.고급휘발유.isnull()]\n",
    "data2 = tmp.loc[tmp.고급휘발유.isnull(),(\"고급휘발유\", \"휘발유\", \"경유\")]\n",
    "print(data2.head())"
   ]
  },
  {
   "cell_type": "code",
   "execution_count": 38,
   "id": "71c0d15f",
   "metadata": {},
   "outputs": [
    {
     "data": {
      "text/html": [
       "<div>\n",
       "<style scoped>\n",
       "    .dataframe tbody tr th:only-of-type {\n",
       "        vertical-align: middle;\n",
       "    }\n",
       "\n",
       "    .dataframe tbody tr th {\n",
       "        vertical-align: top;\n",
       "    }\n",
       "\n",
       "    .dataframe thead th {\n",
       "        text-align: right;\n",
       "    }\n",
       "</style>\n",
       "<table border=\"1\" class=\"dataframe\">\n",
       "  <thead>\n",
       "    <tr style=\"text-align: right;\">\n",
       "      <th></th>\n",
       "      <th>고급휘발유</th>\n",
       "      <th>휘발유</th>\n",
       "      <th>경유</th>\n",
       "    </tr>\n",
       "  </thead>\n",
       "  <tbody>\n",
       "    <tr>\n",
       "      <th>0</th>\n",
       "      <td>1791.028558</td>\n",
       "      <td>1548</td>\n",
       "      <td>1345</td>\n",
       "    </tr>\n",
       "    <tr>\n",
       "      <th>3</th>\n",
       "      <td>1809.592510</td>\n",
       "      <td>1568</td>\n",
       "      <td>1365</td>\n",
       "    </tr>\n",
       "    <tr>\n",
       "      <th>5</th>\n",
       "      <td>1830.755805</td>\n",
       "      <td>1590</td>\n",
       "      <td>1390</td>\n",
       "    </tr>\n",
       "    <tr>\n",
       "      <th>6</th>\n",
       "      <td>1831.682054</td>\n",
       "      <td>1595</td>\n",
       "      <td>1380</td>\n",
       "    </tr>\n",
       "    <tr>\n",
       "      <th>12</th>\n",
       "      <td>1844.739220</td>\n",
       "      <td>1608</td>\n",
       "      <td>1397</td>\n",
       "    </tr>\n",
       "    <tr>\n",
       "      <th>...</th>\n",
       "      <td>...</td>\n",
       "      <td>...</td>\n",
       "      <td>...</td>\n",
       "    </tr>\n",
       "    <tr>\n",
       "      <th>436</th>\n",
       "      <td>1909.336706</td>\n",
       "      <td>1688</td>\n",
       "      <td>1438</td>\n",
       "    </tr>\n",
       "    <tr>\n",
       "      <th>438</th>\n",
       "      <td>1958.847074</td>\n",
       "      <td>1728</td>\n",
       "      <td>1528</td>\n",
       "    </tr>\n",
       "    <tr>\n",
       "      <th>468</th>\n",
       "      <td>1844.739220</td>\n",
       "      <td>1608</td>\n",
       "      <td>1397</td>\n",
       "    </tr>\n",
       "    <tr>\n",
       "      <th>475</th>\n",
       "      <td>1909.336706</td>\n",
       "      <td>1688</td>\n",
       "      <td>1438</td>\n",
       "    </tr>\n",
       "    <tr>\n",
       "      <th>477</th>\n",
       "      <td>1958.847074</td>\n",
       "      <td>1728</td>\n",
       "      <td>1528</td>\n",
       "    </tr>\n",
       "  </tbody>\n",
       "</table>\n",
       "<p>98 rows × 3 columns</p>\n",
       "</div>"
      ],
      "text/plain": [
       "           고급휘발유   휘발유    경유\n",
       "0    1791.028558  1548  1345\n",
       "3    1809.592510  1568  1365\n",
       "5    1830.755805  1590  1390\n",
       "6    1831.682054  1595  1380\n",
       "12   1844.739220  1608  1397\n",
       "..           ...   ...   ...\n",
       "436  1909.336706  1688  1438\n",
       "438  1958.847074  1728  1528\n",
       "468  1844.739220  1608  1397\n",
       "475  1909.336706  1688  1438\n",
       "477  1958.847074  1728  1528\n",
       "\n",
       "[98 rows x 3 columns]"
      ]
     },
     "execution_count": 38,
     "metadata": {},
     "output_type": "execute_result"
    }
   ],
   "source": [
    "data2[\"고급휘발유\"] = model.predict(data2.loc[:,(\"휘발유\", \"경유\")])\n",
    "data2"
   ]
  },
  {
   "cell_type": "code",
   "execution_count": null,
   "id": "d78cf177",
   "metadata": {},
   "outputs": [],
   "source": []
  }
 ],
 "metadata": {
  "kernelspec": {
   "display_name": "Python 3",
   "language": "python",
   "name": "python3"
  },
  "language_info": {
   "codemirror_mode": {
    "name": "ipython",
    "version": 3
   },
   "file_extension": ".py",
   "mimetype": "text/x-python",
   "name": "python",
   "nbconvert_exporter": "python",
   "pygments_lexer": "ipython3",
   "version": "3.8.8"
  }
 },
 "nbformat": 4,
 "nbformat_minor": 5
}
