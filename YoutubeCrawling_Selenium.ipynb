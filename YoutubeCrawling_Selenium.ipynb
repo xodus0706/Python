{
 "cells": [
  {
   "cell_type": "code",
   "execution_count": 1,
   "id": "faaa65b7",
   "metadata": {},
   "outputs": [],
   "source": [
    "from selenium import webdriver\n",
    "from bs4 import BeautifulSoup\n",
    "import requests\n",
    "import pandas as pd\n",
    "from selenium.webdriver.common.keys import Keys\n",
    "import time"
   ]
  },
  {
   "cell_type": "code",
   "execution_count": 2,
   "id": "8489b021",
   "metadata": {},
   "outputs": [],
   "source": [
    "url = \"https://www.youtube.com/c/%EA%B3%84%EA%B3%A1%EC%9D%80%EA%B0%9C%EA%B5%B4%EA%B0%9C%EA%B5%B4/about\"\n",
    "driver = webdriver.Chrome(executable_path='C:/Users/Home/chromedriver')\n",
    "driver.get(url=url)"
   ]
  },
  {
   "cell_type": "code",
   "execution_count": 3,
   "id": "1f750acb",
   "metadata": {},
   "outputs": [],
   "source": [
    "driverlist = driver.find_elements_by_tag_name('style-scope ytd-item-section-renderer')"
   ]
  },
  {
   "cell_type": "code",
   "execution_count": 7,
   "id": "ad039087",
   "metadata": {
    "scrolled": true
   },
   "outputs": [],
   "source": [
    "count = len(driverlist)\n",
    "for i in range(count):\n",
    "    enter = driver.find_elements_by_tag_name('div > ytd-section-renderer > yt-formatted-string')[0].text\n",
    "   \n",
    "    print(\"가입일 : \",enter)\n",
    "    "
   ]
  },
  {
   "cell_type": "code",
   "execution_count": 4,
   "id": "e96a2aa1",
   "metadata": {},
   "outputs": [
    {
     "ename": "IndexError",
     "evalue": "list index out of range",
     "output_type": "error",
     "traceback": [
      "\u001b[1;31m---------------------------------------------------------------------------\u001b[0m",
      "\u001b[1;31mIndexError\u001b[0m                                Traceback (most recent call last)",
      "\u001b[1;32m<ipython-input-4-42863f903738>\u001b[0m in \u001b[0;36m<module>\u001b[1;34m\u001b[0m\n\u001b[1;32m----> 1\u001b[1;33m \u001b[0mdriver\u001b[0m\u001b[1;33m.\u001b[0m\u001b[0mfind_elements_by_tag_name\u001b[0m\u001b[1;33m(\u001b[0m\u001b[1;34m'div > div > div > ytd-video-view-count-renderer > span'\u001b[0m\u001b[1;33m)\u001b[0m\u001b[1;33m[\u001b[0m\u001b[1;36m0\u001b[0m\u001b[1;33m]\u001b[0m\u001b[1;33m.\u001b[0m\u001b[0mtext\u001b[0m\u001b[1;33m\u001b[0m\u001b[1;33m\u001b[0m\u001b[0m\n\u001b[0m",
      "\u001b[1;31mIndexError\u001b[0m: list index out of range"
     ]
    }
   ],
   "source": []
  },
  {
   "cell_type": "code",
   "execution_count": null,
   "id": "50879181",
   "metadata": {},
   "outputs": [],
   "source": []
  }
 ],
 "metadata": {
  "kernelspec": {
   "display_name": "Python 3",
   "language": "python",
   "name": "python3"
  },
  "language_info": {
   "codemirror_mode": {
    "name": "ipython",
    "version": 3
   },
   "file_extension": ".py",
   "mimetype": "text/x-python",
   "name": "python",
   "nbconvert_exporter": "python",
   "pygments_lexer": "ipython3",
   "version": "3.8.8"
  }
 },
 "nbformat": 4,
 "nbformat_minor": 5
}
