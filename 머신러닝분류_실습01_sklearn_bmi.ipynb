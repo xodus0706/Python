{
 "cells": [
  {
   "cell_type": "code",
   "execution_count": 24,
   "id": "523362ca",
   "metadata": {},
   "outputs": [],
   "source": [
    "from sklearn import svm, metrics\n",
    "from sklearn.model_selection import train_test_split\n",
    "import pandas as pd"
   ]
  },
  {
   "cell_type": "code",
   "execution_count": 26,
   "id": "67108ac9",
   "metadata": {},
   "outputs": [],
   "source": [
    "bmi = pd.read_csv(\"data/bmi.csv\")\n",
    "label = bmi[\"label\"]"
   ]
  },
  {
   "cell_type": "code",
   "execution_count": 18,
   "id": "ca64a117",
   "metadata": {},
   "outputs": [
    {
     "data": {
      "text/html": [
       "<div>\n",
       "<style scoped>\n",
       "    .dataframe tbody tr th:only-of-type {\n",
       "        vertical-align: middle;\n",
       "    }\n",
       "\n",
       "    .dataframe tbody tr th {\n",
       "        vertical-align: top;\n",
       "    }\n",
       "\n",
       "    .dataframe thead th {\n",
       "        text-align: right;\n",
       "    }\n",
       "</style>\n",
       "<table border=\"1\" class=\"dataframe\">\n",
       "  <thead>\n",
       "    <tr style=\"text-align: right;\">\n",
       "      <th></th>\n",
       "      <th>height</th>\n",
       "      <th>weight</th>\n",
       "      <th>label</th>\n",
       "    </tr>\n",
       "  </thead>\n",
       "  <tbody>\n",
       "    <tr>\n",
       "      <th>0</th>\n",
       "      <td>125</td>\n",
       "      <td>56</td>\n",
       "      <td>fat</td>\n",
       "    </tr>\n",
       "    <tr>\n",
       "      <th>1</th>\n",
       "      <td>158</td>\n",
       "      <td>54</td>\n",
       "      <td>normal</td>\n",
       "    </tr>\n",
       "    <tr>\n",
       "      <th>2</th>\n",
       "      <td>177</td>\n",
       "      <td>75</td>\n",
       "      <td>normal</td>\n",
       "    </tr>\n",
       "  </tbody>\n",
       "</table>\n",
       "</div>"
      ],
      "text/plain": [
       "   height  weight   label\n",
       "0     125      56     fat\n",
       "1     158      54  normal\n",
       "2     177      75  normal"
      ]
     },
     "execution_count": 18,
     "metadata": {},
     "output_type": "execute_result"
    }
   ],
   "source": [
    "bmi.head(3)"
   ]
  },
  {
   "cell_type": "code",
   "execution_count": 27,
   "id": "f50229ce",
   "metadata": {},
   "outputs": [],
   "source": [
    "w = bmi[\"weight\"]/100\n",
    "h = bmi[\"height\"]/200\n",
    "wh = pd.concat([w,h],axis = 1)"
   ]
  },
  {
   "cell_type": "code",
   "execution_count": 28,
   "id": "3adcd88f",
   "metadata": {},
   "outputs": [],
   "source": [
    "bmi_train, bmi_test, label_train, label_test = \\\n",
    "train_test_split(wh, label)"
   ]
  },
  {
   "cell_type": "code",
   "execution_count": 29,
   "id": "392b4ebe",
   "metadata": {},
   "outputs": [
    {
     "data": {
      "text/plain": [
       "SVC()"
      ]
     },
     "execution_count": 29,
     "metadata": {},
     "output_type": "execute_result"
    }
   ],
   "source": [
    "clf = svm.SVC()\n",
    "clf.fit(bmi_train, label_train)"
   ]
  },
  {
   "cell_type": "code",
   "execution_count": 30,
   "id": "cef19b07",
   "metadata": {},
   "outputs": [],
   "source": [
    "pre = clf.predict(bmi_test)"
   ]
  },
  {
   "cell_type": "code",
   "execution_count": 32,
   "id": "8bc0c340",
   "metadata": {},
   "outputs": [],
   "source": [
    "ac_score = metrics.accuracy_score(label_test,pre)\n",
    "cl_report = metrics.classification_report(label_test,pre)"
   ]
  },
  {
   "cell_type": "code",
   "execution_count": 37,
   "id": "54e37697",
   "metadata": {},
   "outputs": [
    {
     "name": "stdout",
     "output_type": "stream",
     "text": [
      "0.9952\n",
      "              precision    recall  f1-score   support\n",
      "\n",
      "         fat       0.99      1.00      1.00      1895\n",
      "      normal       1.00      0.99      0.99      1486\n",
      "        thin       0.99      1.00      1.00      1619\n",
      "\n",
      "    accuracy                           1.00      5000\n",
      "   macro avg       1.00      0.99      1.00      5000\n",
      "weighted avg       1.00      1.00      1.00      5000\n",
      "\n"
     ]
    }
   ],
   "source": [
    "print(ac_score)\n",
    "print(cl_report)"
   ]
  },
  {
   "cell_type": "code",
   "execution_count": 38,
   "id": "59c85a37",
   "metadata": {},
   "outputs": [
    {
     "name": "stdout",
     "output_type": "stream",
     "text": [
      "['thin' 'fat' 'normal']\n"
     ]
    }
   ],
   "source": [
    "print(clf.predict([[44/100, 160/200], [74/100, 170/200], [64/100, 180/200]]))"
   ]
  },
  {
   "cell_type": "code",
   "execution_count": null,
   "id": "6e691f0e",
   "metadata": {},
   "outputs": [],
   "source": []
  }
 ],
 "metadata": {
  "kernelspec": {
   "display_name": "Python 3",
   "language": "python",
   "name": "python3"
  },
  "language_info": {
   "codemirror_mode": {
    "name": "ipython",
    "version": 3
   },
   "file_extension": ".py",
   "mimetype": "text/x-python",
   "name": "python",
   "nbconvert_exporter": "python",
   "pygments_lexer": "ipython3",
   "version": "3.8.8"
  }
 },
 "nbformat": 4,
 "nbformat_minor": 5
}
